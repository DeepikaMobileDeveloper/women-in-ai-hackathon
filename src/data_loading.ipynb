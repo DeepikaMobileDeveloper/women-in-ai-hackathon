{
 "cells": [
  {
   "cell_type": "code",
   "execution_count": 5,
   "metadata": {},
   "outputs": [],
   "source": [
    "import gzip\n",
    "import shutil\n",
    "from pathlib import Path\n",
    "\n",
    "current_dir = Path.cwd()\n",
    "data_dir = current_dir / 'women-in-ai-hackathon' / 'data'\n",
    "\n",
    "for gz_file in data_dir.glob('*.gz'):\n",
    "    csv_file = gz_file.with_suffix('.csv')\n",
    "    with gzip.open(gz_file, 'rb') as f_in:\n",
    "        with open(csv_file, 'wb') as f_out:\n",
    "            shutil.copyfileobj(f_in, f_out)\n",
    "    print(f'Unzipped: {gz_file.name}')"
   ]
  },
  {
   "cell_type": "code",
   "execution_count": null,
   "metadata": {},
   "outputs": [],
   "source": []
  }
 ],
 "metadata": {
  "kernelspec": {
   "display_name": "Python 3",
   "language": "python",
   "name": "python3"
  },
  "language_info": {
   "codemirror_mode": {
    "name": "ipython",
    "version": 3
   },
   "file_extension": ".py",
   "mimetype": "text/x-python",
   "name": "python",
   "nbconvert_exporter": "python",
   "pygments_lexer": "ipython3",
   "version": "3.9.6"
  }
 },
 "nbformat": 4,
 "nbformat_minor": 2
}
